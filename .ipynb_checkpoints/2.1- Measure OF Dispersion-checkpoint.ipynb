{
 "cells": [
  {
   "cell_type": "markdown",
   "id": "0c22d49c-ee2b-4ca8-b6fa-10c63a72e245",
   "metadata": {},
   "source": [
    "## Measure Of Dispersion\n"
   ]
  },
  {
   "cell_type": "code",
   "execution_count": 1,
   "id": "620374c3-bc42-4a37-a927-5d43e56f33d6",
   "metadata": {},
   "outputs": [],
   "source": [
    "##variance\n",
    "\n",
    "ages_lst=[23,43,23,56,74,32,68,98,45,32]  ## dataset to be used"
   ]
  },
  {
   "cell_type": "code",
   "execution_count": 2,
   "id": "4f5c3061-1016-4635-a1af-7c96d60fef25",
   "metadata": {},
   "outputs": [],
   "source": [
    "### statistisc library needed of this operations\n",
    "import numpy as np"
   ]
  },
  {
   "cell_type": "code",
   "execution_count": 3,
   "id": "47890046-6c9b-4a76-bfa8-d445b46c6ec2",
   "metadata": {},
   "outputs": [],
   "source": [
    "mean=np.mean(ages_lst)   ### take mean and store"
   ]
  },
  {
   "cell_type": "code",
   "execution_count": 4,
   "id": "3e9ced52-4bc6-4bc4-b536-b964c08bb22e",
   "metadata": {},
   "outputs": [
    {
     "data": {
      "text/plain": [
       "49.4"
      ]
     },
     "execution_count": 4,
     "metadata": {},
     "output_type": "execute_result"
    }
   ],
   "source": [
    "mean"
   ]
  },
  {
   "cell_type": "code",
   "execution_count": 5,
   "id": "c142b2e0-939e-4cbd-9540-82a0f553dd54",
   "metadata": {},
   "outputs": [
    {
     "data": {
      "text/plain": [
       "541.64"
      ]
     },
     "execution_count": 5,
     "metadata": {},
     "output_type": "execute_result"
    }
   ],
   "source": [
    "var=np.var(ages_lst)\n",
    "var"
   ]
  },
  {
   "cell_type": "code",
   "execution_count": 6,
   "id": "414222f4",
   "metadata": {},
   "outputs": [
    {
     "data": {
      "text/plain": [
       "23.273160507331188"
      ]
     },
     "execution_count": 6,
     "metadata": {},
     "output_type": "execute_result"
    }
   ],
   "source": [
    "## using sqrt to find std from variance\n",
    "std0 = np.sqrt(var)\n",
    "std0\n",
    "# Note: same as what we have below"
   ]
  },
  {
   "cell_type": "code",
   "execution_count": 7,
   "id": "d8f3aa19-3b91-4379-b9fc-0ef5bb01e0e2",
   "metadata": {},
   "outputs": [
    {
     "data": {
      "text/plain": [
       "23.273160507331188"
      ]
     },
     "execution_count": 7,
     "metadata": {},
     "output_type": "execute_result"
    }
   ],
   "source": [
    "### Doing it directly using np.std() method\n",
    "std=np.std(ages_lst)\n",
    "std"
   ]
  },
  {
   "cell_type": "code",
   "execution_count": 10,
   "id": "2b997c0c-dde5-4463-abe1-b974c8c71da3",
   "metadata": {},
   "outputs": [],
   "source": [
    "import pandas as pd  ### to work with data frame!!"
   ]
  },
  {
   "cell_type": "code",
   "execution_count": 11,
   "id": "f2fe17ef-27ac-4a8b-a132-1ad500dcf54b",
   "metadata": {},
   "outputs": [
    {
     "data": {
      "text/plain": [
       "[[10, 12, 13], [34, 23, 45], [32, 34, 21]]"
      ]
     },
     "execution_count": 11,
     "metadata": {},
     "output_type": "execute_result"
    }
   ],
   "source": [
    "## creating dataset, complex list\n",
    "data=[[10,12,13],[34,23,45],[32,34,21]]\n",
    "data"
   ]
  },
  {
   "cell_type": "code",
   "execution_count": 12,
   "id": "872bb61f",
   "metadata": {},
   "outputs": [
    {
     "data": {
      "text/plain": [
       "list"
      ]
     },
     "execution_count": 12,
     "metadata": {},
     "output_type": "execute_result"
    }
   ],
   "source": [
    "type(data)"
   ]
  },
  {
   "cell_type": "code",
   "execution_count": 14,
   "id": "37daf112",
   "metadata": {},
   "outputs": [
    {
     "name": "stdout",
     "output_type": "stream",
     "text": [
      "<class 'pandas.core.series.Series'> <class 'pandas.core.series.Series'> <class 'pandas.core.series.Series'>\n"
     ]
    }
   ],
   "source": [
    "## each of the list can be seen as series, using pandas library\n",
    "a = pd.Series([10,12,13])\n",
    "b = pd.Series([34,23,45])\n",
    "c = pd.Series([32,34,21])\n",
    "print(type(a), type(b), type(c))"
   ]
  },
  {
   "cell_type": "code",
   "execution_count": 15,
   "id": "161715dd",
   "metadata": {},
   "outputs": [
    {
     "data": {
      "text/html": [
       "<div>\n",
       "<style scoped>\n",
       "    .dataframe tbody tr th:only-of-type {\n",
       "        vertical-align: middle;\n",
       "    }\n",
       "\n",
       "    .dataframe tbody tr th {\n",
       "        vertical-align: top;\n",
       "    }\n",
       "\n",
       "    .dataframe thead th {\n",
       "        text-align: right;\n",
       "    }\n",
       "</style>\n",
       "<table border=\"1\" class=\"dataframe\">\n",
       "  <thead>\n",
       "    <tr style=\"text-align: right;\">\n",
       "      <th></th>\n",
       "      <th>A</th>\n",
       "      <th>B</th>\n",
       "      <th>C</th>\n",
       "    </tr>\n",
       "  </thead>\n",
       "  <tbody>\n",
       "    <tr>\n",
       "      <th>0</th>\n",
       "      <td>10</td>\n",
       "      <td>34</td>\n",
       "      <td>32</td>\n",
       "    </tr>\n",
       "    <tr>\n",
       "      <th>1</th>\n",
       "      <td>12</td>\n",
       "      <td>23</td>\n",
       "      <td>34</td>\n",
       "    </tr>\n",
       "    <tr>\n",
       "      <th>2</th>\n",
       "      <td>13</td>\n",
       "      <td>45</td>\n",
       "      <td>21</td>\n",
       "    </tr>\n",
       "  </tbody>\n",
       "</table>\n",
       "</div>"
      ],
      "text/plain": [
       "    A   B   C\n",
       "0  10  34  32\n",
       "1  12  23  34\n",
       "2  13  45  21"
      ]
     },
     "execution_count": 15,
     "metadata": {},
     "output_type": "execute_result"
    }
   ],
   "source": [
    "## creating table to what will be created again below using pandas series\n",
    "\n",
    "data_abioye = pd.DataFrame({\"A\": a, \"B\": b, \"C\": c})\n",
    "data_abioye"
   ]
  },
  {
   "cell_type": "code",
   "execution_count": 16,
   "id": "c54d88c0",
   "metadata": {},
   "outputs": [],
   "source": [
    "### Another way of creating samething is show below"
   ]
  },
  {
   "cell_type": "code",
   "execution_count": 17,
   "id": "b01e6ffa-87dc-4139-9d4e-3648bde5aec0",
   "metadata": {},
   "outputs": [
    {
     "data": {
      "text/html": [
       "<div>\n",
       "<style scoped>\n",
       "    .dataframe tbody tr th:only-of-type {\n",
       "        vertical-align: middle;\n",
       "    }\n",
       "\n",
       "    .dataframe tbody tr th {\n",
       "        vertical-align: top;\n",
       "    }\n",
       "\n",
       "    .dataframe thead th {\n",
       "        text-align: right;\n",
       "    }\n",
       "</style>\n",
       "<table border=\"1\" class=\"dataframe\">\n",
       "  <thead>\n",
       "    <tr style=\"text-align: right;\">\n",
       "      <th></th>\n",
       "      <th>A</th>\n",
       "      <th>B</th>\n",
       "      <th>C</th>\n",
       "    </tr>\n",
       "  </thead>\n",
       "  <tbody>\n",
       "    <tr>\n",
       "      <th>0</th>\n",
       "      <td>10</td>\n",
       "      <td>12</td>\n",
       "      <td>13</td>\n",
       "    </tr>\n",
       "    <tr>\n",
       "      <th>1</th>\n",
       "      <td>34</td>\n",
       "      <td>23</td>\n",
       "      <td>45</td>\n",
       "    </tr>\n",
       "    <tr>\n",
       "      <th>2</th>\n",
       "      <td>32</td>\n",
       "      <td>34</td>\n",
       "      <td>21</td>\n",
       "    </tr>\n",
       "  </tbody>\n",
       "</table>\n",
       "</div>"
      ],
      "text/plain": [
       "    A   B   C\n",
       "0  10  12  13\n",
       "1  34  23  45\n",
       "2  32  34  21"
      ]
     },
     "execution_count": 17,
     "metadata": {},
     "output_type": "execute_result"
    }
   ],
   "source": [
    "df=pd.DataFrame(data,columns=[\"A\",\"B\",\"C\"])\n",
    "df"
   ]
  },
  {
   "cell_type": "code",
   "execution_count": 18,
   "id": "f1fec76f-50f5-4a75-aacd-1f964372eccb",
   "metadata": {},
   "outputs": [
    {
     "data": {
      "text/plain": [
       "A    177.333333\n",
       "B    121.000000\n",
       "C    277.333333\n",
       "dtype: float64"
      ]
     },
     "execution_count": 18,
     "metadata": {},
     "output_type": "execute_result"
    }
   ],
   "source": [
    "### default axis here will be 0 == columns and 1 == rows\n",
    "df.var()  ## default hers is 0 == columns"
   ]
  },
  {
   "cell_type": "code",
   "execution_count": 19,
   "id": "2bae6029",
   "metadata": {},
   "outputs": [
    {
     "data": {
      "text/plain": [
       "A    177.333333\n",
       "B    121.000000\n",
       "C    277.333333\n",
       "dtype: float64"
      ]
     },
     "execution_count": 19,
     "metadata": {},
     "output_type": "execute_result"
    }
   ],
   "source": [
    "### default axis here will be 0 == columns and 1 == rows\n",
    "df.var(axis=0)  ## default hers is 0 == columns\n",
    "## Note: same as above!!!!"
   ]
  },
  {
   "cell_type": "code",
   "execution_count": 20,
   "id": "b40e86b8-e655-4dba-becd-09e13cbc8e55",
   "metadata": {},
   "outputs": [
    {
     "data": {
      "text/plain": [
       "0      2.333333\n",
       "1    121.000000\n",
       "2     49.000000\n",
       "dtype: float64"
      ]
     },
     "execution_count": 20,
     "metadata": {},
     "output_type": "execute_result"
    }
   ],
   "source": [
    "## Row wise\n",
    "df.var(axis=1)  ## Explain above already"
   ]
  },
  {
   "cell_type": "code",
   "execution_count": 21,
   "id": "0151bc61-c87e-46d9-8182-2afc49a793ae",
   "metadata": {},
   "outputs": [
    {
     "data": {
      "text/plain": [
       "A    177.333333\n",
       "B    121.000000\n",
       "C    277.333333\n",
       "dtype: float64"
      ]
     },
     "execution_count": 21,
     "metadata": {},
     "output_type": "execute_result"
    }
   ],
   "source": [
    "## coulmnwise\n",
    "df.var(axis=0)"
   ]
  },
  {
   "cell_type": "code",
   "execution_count": 22,
   "id": "302e1275-328d-4d23-8fc0-12594a270e01",
   "metadata": {},
   "outputs": [],
   "source": [
    "#### The End"
   ]
  }
 ],
 "metadata": {
  "kernelspec": {
   "display_name": "Python 3 (ipykernel)",
   "language": "python",
   "name": "python3"
  },
  "language_info": {
   "codemirror_mode": {
    "name": "ipython",
    "version": 3
   },
   "file_extension": ".py",
   "mimetype": "text/x-python",
   "name": "python",
   "nbconvert_exporter": "python",
   "pygments_lexer": "ipython3",
   "version": "3.9.12"
  }
 },
 "nbformat": 4,
 "nbformat_minor": 5
}
